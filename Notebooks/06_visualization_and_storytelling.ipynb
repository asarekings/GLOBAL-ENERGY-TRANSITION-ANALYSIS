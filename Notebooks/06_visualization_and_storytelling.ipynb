{
 "cells": [
  {
   "cell_type": "markdown",
   "id": "0e3fc00d",
   "metadata": {},
   "source": [
    "# 06_visualization_and_storytelling\n",
    "\n",
    "Enhanced Narrative & Styling"
   ]
  },
  {
   "cell_type": "code",
   "execution_count": null,
   "id": "396db673",
   "metadata": {},
   "outputs": [],
   "source": [
    "import yaml\n",
    "import pandas as pd\n",
    "import seaborn as sns\n",
    "import plotly.express as px\n",
    "from energy_analysis.visualization import plot_scenarios\n",
    "\n",
    "# Load data\n",
    "df = pd.read_csv('data/processed/scenario_results.csv')\n",
    "\n",
    "# Static Seaborn plot\n",
    "sns.set_theme(style='whitegrid', palette='muted')\n",
    "plot_scenarios('data/processed/scenario_results.csv', outdir='figures')\n",
    "\n",
    "# Interactive Plotly chart\n",
    "fig = px.line(df, x='year', y='cons_adj', color='scenario',\n",
    "              title='Scenario-adjusted Energy Consumption (Interactive)')\n",
    "fig.update_layout(template='plotly_white')\n",
    "fig.show()"
   ]
  },
  {
   "cell_type": "markdown",
   "id": "ab88508b",
   "metadata": {},
   "source": [
    "## Key Insights\n",
    "- **Baseline:** Moderate growth tempered by carbon pricing and efficiency gains.\n",
    "- **High Policy:** Strong reductions driven by aggressive efficiency and electrification.\n",
    "- **Low Policy:** Higher consumption due to weak policy levers and slow efficiency.\n",
    "- **Accelerated Tech:** Rapid uptake yields the lowest adjusted demand by 2050.\n"
   ]
  }
 ],
 "metadata": {
  "kernelspec": {
   "display_name": "Python 3",
   "language": "python",
   "name": "python3"
  },
  "language_info": {
   "codemirror_mode": {
    "name": "ipython",
    "version": 3
   },
   "file_extension": ".py",
   "mimetype": "text/x-python",
   "name": "python",
   "version": "3.8"
  }
 },
 "nbformat": 4,
 "nbformat_minor": 5
}
