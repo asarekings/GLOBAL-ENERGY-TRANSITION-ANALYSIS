{
 "cells": [
  {
   "cell_type": "markdown",
   "id": "6db2fa23",
   "metadata": {},
   "source": [
    "# 01_data_ingest\n",
    "\n",
    "Download and cache all raw datasets with versioning."
   ]
  },
  {
   "cell_type": "code",
   "execution_count": null,
   "id": "1406b2cc",
   "metadata": {},
   "outputs": [],
   "source": [
    "from energy_analysis.data_ingest import main\n",
    "\n",
    "if __name__ == '__main__':\n",
    "    main()"
   ]
  },
  {
   "cell_type": "markdown",
   "id": "94d9cff9",
   "metadata": {},
   "source": [
    "**Output**: Check `data/raw/` for downloaded CSV files."
   ]
  }
 ],
 "metadata": {
  "kernelspec": {
   "display_name": "Python 3",
   "language": "python",
   "name": "python3"
  },
  "language_info": {
   "codemirror_mode": {
    "name": "ipython",
    "version": 3
   },
   "file_extension": ".py",
   "mimetype": "text/x-python",
   "name": "python",
   "version": "3.8"
  }
 },
 "nbformat": 4,
 "nbformat_minor": 5
}
