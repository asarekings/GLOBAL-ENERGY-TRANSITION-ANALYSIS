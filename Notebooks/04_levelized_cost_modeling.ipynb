{
 "cells": [
  {
   "cell_type": "markdown",
   "id": "c58f3ec1",
   "metadata": {},
   "source": [
    "# 04_levelized_cost_modeling\n",
    "\n",
    "Model levelized cost of energy (LCOE) for key technologies."
   ]
  },
  {
   "cell_type": "code",
   "execution_count": null,
   "id": "af877d16",
   "metadata": {},
   "outputs": [],
   "source": [
    "import yaml\n",
    "import pandas as pd\n",
    "from energy_analysis.analysis.cost_model import plot_lcoe\n",
    "\n",
    "# Load processed data\n",
    "cfg = yaml.safe_load(open('config.yaml'))\n",
    "df = pd.read_csv(f\"{cfg['data']['processed_dir']}/sample_energy.csv\")\n",
    "\n",
    "# Generate LCOE forecasts and plot\n",
    "plot_lcoe(df, tech_col='technology', cost_col='capex', year_col='year', outdir='figures')\n",
    "df.head()"
   ]
  }
 ],
 "metadata": {
  "kernelspec": {
   "display_name": "Python 3",
   "language": "python",
   "name": "python3"
  },
  "language_info": {
   "codemirror_mode": {
    "name": "ipython",
    "version": 3
   },
   "file_extension": ".py",
   "mimetype": "text/x-python",
   "name": "python",
   "version": "3.8"
  }
 },
 "nbformat": 4,
 "nbformat_minor": 5
}
