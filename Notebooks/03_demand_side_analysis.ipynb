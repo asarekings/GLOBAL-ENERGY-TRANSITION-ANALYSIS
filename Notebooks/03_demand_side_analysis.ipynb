{
 "cells": [
  {
   "cell_type": "markdown",
   "id": "aa999965",
   "metadata": {},
   "source": [
    "# 03_demand_side_analysis\n",
    "\n",
    "Explore energy consumption and efficiency measures on the demand side."
   ]
  },
  {
   "cell_type": "code",
   "execution_count": null,
   "id": "39372758",
   "metadata": {},
   "outputs": [],
   "source": [
    "import yaml\n",
    "from energy_analysis.analysis.demand import load_consumption, plot_global_demand\n",
    "\n",
    "# Load processed data\n",
    "cfg = yaml.safe_load(open('config.yaml'))\n",
    "df = load_consumption(cfg['data']['processed_dir'])\n",
    "\n",
    "# Generate and display plot\n",
    "plot_global_demand(df, outdir='figures')\n",
    "df.head()"
   ]
  }
 ],
 "metadata": {
  "kernelspec": {
   "display_name": "Python 3",
   "language": "python",
   "name": "python3"
  },
  "language_info": {
   "codemirror_mode": {
    "name": "ipython",
    "version": 3
   },
   "file_extension": ".py",
   "mimetype": "text/x-python",
   "name": "python",
   "version": "3.8"
  }
 },
 "nbformat": 4,
 "nbformat_minor": 5
}
