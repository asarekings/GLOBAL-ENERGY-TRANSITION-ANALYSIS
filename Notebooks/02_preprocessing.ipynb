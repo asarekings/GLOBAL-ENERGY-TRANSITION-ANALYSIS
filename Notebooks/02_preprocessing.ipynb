{
 "cells": [
  {
   "cell_type": "markdown",
   "id": "bdef2844",
   "metadata": {},
   "source": [
    "# 02_preprocessing\n",
    "\n",
    "Clean and transform raw data to analysis-ready tables."
   ]
  },
  {
   "cell_type": "code",
   "execution_count": null,
   "id": "63af5158",
   "metadata": {},
   "outputs": [],
   "source": [
    "from energy_analysis.preprocessing import main\n",
    "\n",
    "if __name__ == '__main__':\n",
    "    main()"
   ]
  },
  {
   "cell_type": "markdown",
   "id": "bad0f458",
   "metadata": {},
   "source": [
    "**Output**: Cleaned CSVs in `data/processed/`."
   ]
  }
 ],
 "metadata": {
  "kernelspec": {
   "display_name": "Python 3",
   "language": "python",
   "name": "python3"
  },
  "language_info": {
   "codemirror_mode": {
    "name": "ipython",
    "version": 3
   },
   "file_extension": ".py",
   "mimetype": "text/x-python",
   "name": "python",
   "version": "3.8"
  }
 },
 "nbformat": 4,
 "nbformat_minor": 5
}
