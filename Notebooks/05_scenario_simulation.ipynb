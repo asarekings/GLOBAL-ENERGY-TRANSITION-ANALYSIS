{
 "cells": [
  {
   "cell_type": "markdown",
   "id": "21f7762b",
   "metadata": {},
   "source": [
    "# 05_scenario_simulation\n",
    "\n",
    "Run Monte Carlo or sensitivity analyses across multiple policy/economic scenarios."
   ]
  },
  {
   "cell_type": "code",
   "execution_count": null,
   "id": "059e21d4",
   "metadata": {},
   "outputs": [],
   "source": [
    "import yaml\n",
    "import pandas as pd\n",
    "from energy_analysis.scenario import run_scenarios\n",
    "\n",
    "# Load config & processed data\n",
    "cfg = yaml.safe_load(open('config.yaml'))\n",
    "df = pd.read_csv(f\"{cfg['data']['processed_dir']}/sample_energy.csv\")\n",
    "\n",
    "# Run scenarios\n",
    "results = run_scenarios(df, cfg['scenarios'])\n",
    "results.head()"
   ]
  },
  {
   "cell_type": "code",
   "execution_count": null,
   "id": "4cf03d35",
   "metadata": {},
   "outputs": [],
   "source": [
    "# Save scenario results\n",
    "results.to_csv('data/processed/scenario_results.csv', index=False)\n",
    "print('Wrote data/processed/scenario_results.csv')"
   ]
  }
 ],
 "metadata": {
  "kernelspec": {
   "display_name": "Python 3",
   "language": "python",
   "name": "python3"
  },
  "language_info": {
   "codemirror_mode": {
    "name": "ipython",
    "version": 3
   },
   "file_extension": ".py",
   "mimetype": "text/x-python",
   "name": "python",
   "version": "3.8"
  }
 },
 "nbformat": 4,
 "nbformat_minor": 5
}
